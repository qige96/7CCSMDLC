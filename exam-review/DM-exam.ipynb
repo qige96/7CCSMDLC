{
 "cells": [
  {
   "cell_type": "code",
   "execution_count": 3,
   "metadata": {},
   "outputs": [],
   "source": [
    "from DMcode import *"
   ]
  },
  {
   "cell_type": "code",
   "execution_count": 4,
   "metadata": {},
   "outputs": [],
   "source": [
    "def lr(x):\n",
    "    return 0.5 * x + 1"
   ]
  },
  {
   "cell_type": "code",
   "execution_count": 5,
   "metadata": {},
   "outputs": [
    {
     "data": {
      "text/plain": [
       "1.5"
      ]
     },
     "execution_count": 5,
     "metadata": {},
     "output_type": "execute_result"
    }
   ],
   "source": [
    "lr(1)"
   ]
  },
  {
   "cell_type": "code",
   "execution_count": 6,
   "metadata": {},
   "outputs": [
    {
     "data": {
      "text/plain": [
       "1.75"
      ]
     },
     "execution_count": 6,
     "metadata": {},
     "output_type": "execute_result"
    }
   ],
   "source": [
    "lr(1.5)"
   ]
  },
  {
   "cell_type": "code",
   "execution_count": 7,
   "metadata": {},
   "outputs": [
    {
     "data": {
      "text/plain": [
       "2.5"
      ]
     },
     "execution_count": 7,
     "metadata": {},
     "output_type": "execute_result"
    }
   ],
   "source": [
    "lr(3)"
   ]
  },
  {
   "cell_type": "code",
   "execution_count": 8,
   "metadata": {},
   "outputs": [
    {
     "data": {
      "text/plain": [
       "0.027500000000000014"
      ]
     },
     "execution_count": 8,
     "metadata": {},
     "output_type": "execute_result"
    }
   ],
   "source": [
    "from sklearn.metrics import mean_squared_error\n",
    "mean_squared_error([1.5,1.75,2.5],[1.6,1.5,2.4])"
   ]
  },
  {
   "cell_type": "code",
   "execution_count": 11,
   "metadata": {},
   "outputs": [
    {
     "data": {
      "text/plain": [
       "0.027500000000000014"
      ]
     },
     "execution_count": 11,
     "metadata": {},
     "output_type": "execute_result"
    }
   ],
   "source": [
    "((1.6-1.5)**2+(1.5-1.75)**2+(2.4-2.5)**2)/3"
   ]
  },
  {
   "cell_type": "code",
   "execution_count": 20,
   "metadata": {},
   "outputs": [],
   "source": [
    "txs = np.array([\n",
    "    ['Pasta', 'Risotto', 'Coffee'],\n",
    "    ['Risotto', 'Tiramisu'],\n",
    "    ['Risotto', 'Wine'],\n",
    "    ['Pasta', 'Risotto', 'Tiramisu'],\n",
    "    ['Pasta', 'Wine'],\n",
    "    ['Risotto', 'Wine'],\n",
    "    ['Pasta', 'Wine'],\n",
    "    ['Pasta', 'Risotto', 'Wine', 'Coffee'],\n",
    "    ['Pasta', 'Risotto', 'Wine']\n",
    "    ]\n",
    ")"
   ]
  },
  {
   "cell_type": "code",
   "execution_count": 21,
   "metadata": {},
   "outputs": [
    {
     "data": {
      "text/plain": [
       "array([list(['Pasta', 'Risotto', 'Coffee']),\n",
       "       list(['Risotto', 'Tiramisu']), list(['Risotto', 'Wine']),\n",
       "       list(['Pasta', 'Risotto', 'Tiramisu']), list(['Pasta', 'Wine']),\n",
       "       list(['Risotto', 'Wine']), list(['Pasta', 'Wine']),\n",
       "       list(['Pasta', 'Risotto', 'Wine', 'Coffee']),\n",
       "       list(['Pasta', 'Risotto', 'Wine'])], dtype=object)"
      ]
     },
     "execution_count": 21,
     "metadata": {},
     "output_type": "execute_result"
    }
   ],
   "source": [
    "txs"
   ]
  },
  {
   "cell_type": "code",
   "execution_count": 54,
   "metadata": {},
   "outputs": [
    {
     "name": "stdout",
     "output_type": "stream",
     "text": [
      "('Pasta',) 6\n",
      "('Risotto',) 7\n",
      "('Coffee',) 2\n",
      "('Tiramisu',) 2\n",
      "('Wine',) 6\n"
     ]
    }
   ],
   "source": [
    "oneset = one_item_sets(txs,2)\n",
    "oneset\n",
    "one_item_sets(txs,1)\n",
    "for i in oneset:\n",
    "    print(i, coverage(i,txs))"
   ]
  },
  {
   "cell_type": "code",
   "execution_count": 56,
   "metadata": {},
   "outputs": [
    {
     "name": "stdout",
     "output_type": "stream",
     "text": [
      "('Pasta', 'Risotto') 4\n",
      "('Pasta', 'Coffee') 2\n",
      "('Pasta', 'Wine') 4\n",
      "('Risotto', 'Coffee') 2\n",
      "('Risotto', 'Tiramisu') 2\n",
      "('Risotto', 'Wine') 4\n"
     ]
    }
   ],
   "source": [
    "twoset = two_item_sets(oneset, txs, 2)\n",
    "twoset\n",
    "for i in twoset:\n",
    "    print(i, coverage(i,txs))"
   ]
  },
  {
   "cell_type": "code",
   "execution_count": 58,
   "metadata": {},
   "outputs": [
    {
     "name": "stdout",
     "output_type": "stream",
     "text": [
      "('Pasta', 'Risotto', 'Coffee') 2\n",
      "('Pasta', 'Risotto', 'Wine') 2\n",
      "('Pasta', 'Risotto', 'Tiramisu') 1\n",
      "('Pasta', 'Coffee', 'Wine') 1\n",
      "('Pasta', 'Coffee', 'Tiramisu') 0\n",
      "('Pasta', 'Wine', 'Tiramisu') 0\n",
      "('Risotto', 'Coffee', 'Wine') 1\n",
      "('Risotto', 'Coffee', 'Tiramisu') 0\n",
      "('Risotto', 'Wine', 'Tiramisu') 0\n",
      "('Coffee', 'Wine', 'Tiramisu') 0\n"
     ]
    }
   ],
   "source": [
    "threeset = three_item_sets(twoset, txs, 0)\n",
    "for i in threeset:\n",
    "    print(i, coverage(i,txs))"
   ]
  },
  {
   "cell_type": "code",
   "execution_count": 31,
   "metadata": {},
   "outputs": [],
   "source": [
    "rules = [\n",
    "    (('Pasta', 'Risotto'), ('Coffee',)),\n",
    "    (('Risotto', 'Coffee'), ('Pasta',)),\n",
    "    (('Pasta', 'Coffee'), ( 'Risotto',)),\n",
    "    (('Pasta', 'Risotto'), ( 'Wine',)),\n",
    "    (('Risotto', 'Wine'), ('Pasta',)),\n",
    "    (('Pasta',  'Wine'), ('Risotto',))\n",
    "]"
   ]
  },
  {
   "cell_type": "code",
   "execution_count": 59,
   "metadata": {},
   "outputs": [
    {
     "name": "stdout",
     "output_type": "stream",
     "text": [
      "('Pasta', 'Risotto') -> ('Coffee',) 0.5\n",
      "('Risotto', 'Coffee') -> ('Pasta',) 1.0\n",
      "('Pasta', 'Coffee') -> ('Risotto',) 1.0\n",
      "('Pasta', 'Risotto') -> ('Wine',) 0.5\n",
      "('Risotto', 'Wine') -> ('Pasta',) 0.5\n",
      "('Pasta', 'Wine') -> ('Risotto',) 0.5\n"
     ]
    }
   ],
   "source": [
    "for r in rules:\n",
    "    print(r[0],'->',r[1], confidence(r, txs))"
   ]
  },
  {
   "cell_type": "code",
   "execution_count": null,
   "metadata": {},
   "outputs": [],
   "source": []
  },
  {
   "cell_type": "code",
   "execution_count": null,
   "metadata": {},
   "outputs": [],
   "source": []
  },
  {
   "cell_type": "code",
   "execution_count": null,
   "metadata": {},
   "outputs": [],
   "source": []
  },
  {
   "cell_type": "code",
   "execution_count": null,
   "metadata": {},
   "outputs": [],
   "source": []
  },
  {
   "cell_type": "code",
   "execution_count": 72,
   "metadata": {},
   "outputs": [],
   "source": [
    "dat = np.array([\n",
    "        ['No', ' Married', 4, 'No'],\n",
    "       ['No', ' Single', 5, 'No'],\n",
    "       ['Yes', ' Married', 4, 'No'],\n",
    "       ['No', ' Divorced', 2, 'Yes'],\n",
    "       ['No', ' Married ', 4, 'No'],\n",
    "       ['Yes', ' Divorced', 2, 'No'],\n",
    "       ['No', ' Married ', 3, 'Yes'],\n",
    "       ['No', ' Married ', 3, 'No'],\n",
    "       ['Yes', ' Single ', 2, 'Yes']], dtype=object)\n",
    "X = dat[:,:-1]\n",
    "y = dat[:, -1]\n",
    "x = np.array(['No', \"Married\", 3])"
   ]
  },
  {
   "cell_type": "code",
   "execution_count": 49,
   "metadata": {},
   "outputs": [
    {
     "data": {
      "text/plain": [
       "array([['No', ' Married', 4],\n",
       "       ['No', ' Single', 5],\n",
       "       ['Yes', ' Married', 4],\n",
       "       ['No', ' Divorced', 2],\n",
       "       ['No', ' Married ', 4],\n",
       "       ['Yes', ' Divorced', 2],\n",
       "       ['No', ' Married ', 3],\n",
       "       ['No', ' Married ', 3],\n",
       "       ['Yes', ' Single ', 2]], dtype=object)"
      ]
     },
     "execution_count": 49,
     "metadata": {},
     "output_type": "execute_result"
    }
   ],
   "source": [
    "X"
   ]
  },
  {
   "cell_type": "code",
   "execution_count": 73,
   "metadata": {},
   "outputs": [
    {
     "name": "stdout",
     "output_type": "stream",
     "text": [
      "{'Yes': [0.5]}\n",
      "3 3\n",
      "{'Yes': [0.5, 0.16666666666666666]}\n",
      "3 3\n",
      "{'Yes': [0.5, 0.16666666666666666, 0.16666666666666666]}\n",
      "3 3\n",
      "{'Yes': [0.5, 0.16666666666666666, 0.16666666666666666], 'No': [0.5555555555555556]}\n",
      "6 3\n",
      "{'Yes': [0.5, 0.16666666666666666, 0.16666666666666666], 'No': [0.5555555555555556, 0.1111111111111111]}\n",
      "6 3\n",
      "{'Yes': [0.5, 0.16666666666666666, 0.16666666666666666], 'No': [0.5555555555555556, 0.1111111111111111, 0.1111111111111111]}\n",
      "6 3\n",
      "cls1: Yes     cls2: No\n",
      "Pr(Yes): 0.3333333333333333     Pr(No): 0.6666666666666666\n",
      "Probability of each attribute in x for each label:\n",
      " {'Yes': [0.5, 0.16666666666666666, 0.16666666666666666], 'No': [0.5555555555555556, 0.1111111111111111, 0.1111111111111111]}\n",
      "1.0125000000000002\n"
     ]
    },
    {
     "data": {
      "text/plain": [
       "'Yes'"
      ]
     },
     "execution_count": 73,
     "metadata": {},
     "output_type": "execute_result"
    }
   ],
   "source": [
    "naive_bayes(X,y,x, use_laplace=True, print_log=True)"
   ]
  },
  {
   "cell_type": "code",
   "execution_count": 62,
   "metadata": {},
   "outputs": [
    {
     "data": {
      "text/plain": [
       "array(['No', 'Married', '3'], dtype='<U7')"
      ]
     },
     "execution_count": 62,
     "metadata": {},
     "output_type": "execute_result"
    }
   ],
   "source": [
    "x"
   ]
  },
  {
   "cell_type": "code",
   "execution_count": 70,
   "metadata": {},
   "outputs": [],
   "source": [
    "def naive_bayes(X, y, x, use_laplace=False, print_log=False):\n",
    "    '''\n",
    "    compute probability for each event in y useing naive bayes method\n",
    "    Parameters\n",
    "    ----------\n",
    "    X: matrix/2darray\n",
    "        training data\n",
    "    y: 1darray\n",
    "        labels for each rwo in traiing data\n",
    "    x: 1darray\n",
    "        one sample whose label is to be determined\n",
    "    use_laplace: bool, default False\n",
    "        whether to use Laplace estimation\n",
    "    print_log: bool\n",
    "        whether to print intermediate results\n",
    "    Returns\n",
    "    -------\n",
    "    probs: dict\n",
    "        probability for each event (label) in y\n",
    "    Examples\n",
    "    --------\n",
    "        From Lecture 3 Slide 67\n",
    "        >>> X = np.array([['sunny', 'hot', 'high', False],\n",
    "        ...        ['sunny', 'hot', 'high', True],\n",
    "        ...        ['overcast', 'hot', 'high', False],\n",
    "        ...        ['rainy', 'mild', 'high', False],\n",
    "        ...        ['rainy', 'cool', 'normal', False],\n",
    "        ...        ['rainy', 'cool', 'normal', True],\n",
    "        ...        ['overcast', 'cool', 'normal', True],\n",
    "        ...        ['sunny', 'mild', 'high', False],\n",
    "        ...        ['sunny', 'cool', 'normal', False],\n",
    "        ...        ['rainy', 'mild', 'normal', False],\n",
    "        ...        ['sunny', 'mild', 'normal', True],\n",
    "        ...        ['overcast', 'mild', 'high', True],\n",
    "        ...        ['overcast', 'hot', 'normal', False],\n",
    "        ...        ['rainy', 'mild', 'high', True]], dtype=object)\n",
    "        >>> y = np.array(['no', 'no', 'yes', 'yes', 'yes', 'no', 'yes', 'no', 'yes', 'yes',\n",
    "        ...         'yes', 'yes', 'yes', 'no'], dtype=object)\n",
    "        >>> x = np.array(['sunny', 'cool', 'high', True], dtype=object)\n",
    "        >>> naive_bayes(X, y, x, print_log=False)\n",
    "        'no'\n",
    "    '''\n",
    "    probs = {}\n",
    "    cls1, cls2 = set(y)\n",
    "\n",
    "    # compute probability for each attributes in x\n",
    "    for cls in (cls1, cls2):\n",
    "        probs[cls] = []\n",
    "        dat = X[y==cls]\n",
    "        for attr in x:\n",
    "            count = 0\n",
    "            for row in dat:\n",
    "                if attr in row:\n",
    "                    count += 1\n",
    "            if use_laplace:\n",
    "                probs[cls].append((count+1)/(len(dat)+len(x)))\n",
    "                print(probs)\n",
    "                print(len(dat), len(x))\n",
    "            else:\n",
    "                probs[cls].append((count)/(len(dat)))\n",
    "    \n",
    "    Pr_cls1 = len(X[y==cls1]) / len(X)\n",
    "    Pr_cls2 = len(X[y==cls2]) / len(X)\n",
    "    \n",
    "    # compute Pr(cls1|x) / Pr(cls2|x)\n",
    "    from functools import reduce\n",
    "    odd = (reduce(lambda x,y:x * y, probs[cls1]) * Pr_cls1) / \\\n",
    "            (reduce(lambda x,y:x * y,probs[cls2]) * Pr_cls2)\n",
    "\n",
    "    if print_log:\n",
    "        print('cls1:', cls1, '    cls2:', cls2)\n",
    "        print('Pr(%s):'%cls1, Pr_cls1, '    Pr(%s):'%cls2, Pr_cls2)\n",
    "        print('Probability of each attribute in x for each label:\\n', probs)\n",
    "        print(odd)\n",
    "    if odd < 1.0:\n",
    "        return cls2\n",
    "    return cls1"
   ]
  },
  {
   "cell_type": "code",
   "execution_count": 71,
   "metadata": {},
   "outputs": [
    {
     "name": "stdout",
     "output_type": "stream",
     "text": [
      "{'no': [0.4444444444444444]}\n",
      "5 4\n",
      "{'no': [0.4444444444444444, 0.2222222222222222]}\n",
      "5 4\n",
      "{'no': [0.4444444444444444, 0.2222222222222222, 0.5555555555555556]}\n",
      "5 4\n",
      "{'no': [0.4444444444444444, 0.2222222222222222, 0.5555555555555556, 0.4444444444444444]}\n",
      "5 4\n",
      "{'no': [0.4444444444444444, 0.2222222222222222, 0.5555555555555556, 0.4444444444444444], 'yes': [0.23076923076923078]}\n",
      "9 4\n",
      "{'no': [0.4444444444444444, 0.2222222222222222, 0.5555555555555556, 0.4444444444444444], 'yes': [0.23076923076923078, 0.3076923076923077]}\n",
      "9 4\n",
      "{'no': [0.4444444444444444, 0.2222222222222222, 0.5555555555555556, 0.4444444444444444], 'yes': [0.23076923076923078, 0.3076923076923077, 0.3076923076923077]}\n",
      "9 4\n",
      "{'no': [0.4444444444444444, 0.2222222222222222, 0.5555555555555556, 0.4444444444444444], 'yes': [0.23076923076923078, 0.3076923076923077, 0.3076923076923077, 0.3076923076923077]}\n",
      "9 4\n",
      "cls1: no     cls2: yes\n",
      "Pr(no): 0.35714285714285715     Pr(yes): 0.6428571428571429\n",
      "Probability of each attribute in x for each label:\n",
      " {'no': [0.4444444444444444, 0.2222222222222222, 0.5555555555555556, 0.4444444444444444], 'yes': [0.23076923076923078, 0.3076923076923077, 0.3076923076923077, 0.3076923076923077]}\n",
      "2.015346012069072\n"
     ]
    },
    {
     "data": {
      "text/plain": [
       "'no'"
      ]
     },
     "execution_count": 71,
     "metadata": {},
     "output_type": "execute_result"
    }
   ],
   "source": [
    "naive_bayes(X,y,x, use_laplace=True, print_log=True)"
   ]
  },
  {
   "cell_type": "code",
   "execution_count": 69,
   "metadata": {},
   "outputs": [
    {
     "name": "stdout",
     "output_type": "stream",
     "text": [
      "cls1: no     cls2: yes\n",
      "Pr(no): 0.35714285714285715     Pr(yes): 0.6428571428571429\n",
      "Probability of each attribute in x for each label:\n",
      " {'no': [0.4444444444444444, 0.2222222222222222, 0.5555555555555556, 0.4444444444444444], 'yes': [0.23076923076923078, 0.3076923076923077, 0.3076923076923077, 0.3076923076923077]}\n",
      "2.015346012069072\n"
     ]
    },
    {
     "data": {
      "text/plain": [
       "'no'"
      ]
     },
     "execution_count": 69,
     "metadata": {},
     "output_type": "execute_result"
    }
   ],
   "source": [
    "        >>> X = np.array([['sunny', 'hot', 'high', False],\n",
    "        ...        ['sunny', 'hot', 'high', True],\n",
    "        ...        ['overcast', 'hot', 'high', False],\n",
    "        ...        ['rainy', 'mild', 'high', False],\n",
    "        ...        ['rainy', 'cool', 'normal', False],\n",
    "        ...        ['rainy', 'cool', 'normal', True],\n",
    "        ...        ['overcast', 'cool', 'normal', True],\n",
    "        ...        ['sunny', 'mild', 'high', False],\n",
    "        ...        ['sunny', 'cool', 'normal', False],\n",
    "        ...        ['rainy', 'mild', 'normal', False],\n",
    "        ...        ['sunny', 'mild', 'normal', True],\n",
    "        ...        ['overcast', 'mild', 'high', True],\n",
    "        ...        ['overcast', 'hot', 'normal', False],\n",
    "        ...        ['rainy', 'mild', 'high', True]], dtype=object)\n",
    "        >>> y = np.array(['no', 'no', 'yes', 'yes', 'yes', 'no', 'yes', 'no', 'yes', 'yes',\n",
    "        ...         'yes', 'yes', 'yes', 'no'], dtype=object)\n",
    "        >>> x = np.array(['sunny', 'cool', 'high', True], dtype=object)\n",
    "        >>> naive_bayes(X, y, x, print_log=True)\n",
    "        "
   ]
  },
  {
   "cell_type": "code",
   "execution_count": 42,
   "metadata": {},
   "outputs": [],
   "source": [
    "from codelist import *"
   ]
  },
  {
   "cell_type": "code",
   "execution_count": 28,
   "metadata": {},
   "outputs": [],
   "source": [
    "def f(x):\n",
    "    return x[0]**2 * np.sin(x[1]) + 2*(x[0]-x[1]) - x[1]**2 * np.cos(x[0])\n",
    "X = np.array([[3, 8],[10,-10],[5, -5]])\n",
    "S = np.array([[1, 2],[3, 4],[5, 6],])\n",
    "r = np.array([0.5, 0.5])\n",
    "noises = np.array([1,4])"
   ]
  },
  {
   "cell_type": "code",
   "execution_count": 29,
   "metadata": {},
   "outputs": [
    {
     "name": "stdout",
     "output_type": "stream",
     "text": [
      "[[ 7.  17.5]\n",
      " [11.5 12.5]\n",
      " [ 5.  -5. ]]\n"
     ]
    }
   ],
   "source": [
    "\n",
    "new_x1, new_s1 = local_intermediate_cx(X[2], X[0], S[2], S[0], r)\n",
    "offsp_x1 = offspring_mutation(new_x1, new_s1, noises)\n",
    "offsp_s1 = new_s1 * 0.9\n",
    "\n",
    "new_x2, new_s2 = local_intermediate_cx(X[1], X[2], S[1], S[2], r)\n",
    "offsp_x2 = offspring_mutation(new_x2, new_s2, noises)\n",
    "offsp_s2 = new_s2 * 0.9\n",
    "\n",
    "print(plus_strategy(X, [offsp_x1, offsp_x2], f))"
   ]
  },
  {
   "cell_type": "code",
   "execution_count": 19,
   "metadata": {},
   "outputs": [],
   "source": []
  },
  {
   "cell_type": "code",
   "execution_count": 60,
   "metadata": {},
   "outputs": [
    {
     "name": "stdout",
     "output_type": "stream",
     "text": [
      "Y_hat:\n",
      " [0 2]\n",
      "new_V:\n",
      " [[-5.6  6.1]\n",
      " [ 3.1 -0.4]\n",
      " [ 0.2 -3. ]\n",
      " [ 0.1  4.7]\n",
      " [-2.7  0.6]]\n",
      "new_X:\n",
      " [[ 4.4  1.1]\n",
      " [ 0.1  3.6]\n",
      " [ 2.2  5. ]\n",
      " [-0.9 -0.3]\n",
      " [ 4.3  2.6]]\n",
      "new_Y:\n",
      " [[ 4.4  1.1]\n",
      " [ 0.   2. ]\n",
      " [ 3.   3. ]\n",
      " [-0.9 -0.3]\n",
      " [ 4.3  2.6]]\n",
      "new_y_hat:\n",
      " [-0.9 -0.3]\n"
     ]
    }
   ],
   "source": [
    "def example_t8_q6():\n",
    "    def f(x):\n",
    "        return 5 * x[0]**2 - 10 * x[0] * x[1]+ 20 * x[1]**2\n",
    "    X = np.array([\n",
    "        [10,-5],\n",
    "        [-3,4],\n",
    "        [2,8],\n",
    "        [-1,-5],\n",
    "        [7,2]\n",
    "    ])\n",
    "    Y = np.array([\n",
    "        [2,3],\n",
    "        [0,2],\n",
    "        [3,3],\n",
    "        [-8,-4],\n",
    "        [6,0],\n",
    "    ])\n",
    "    V = np.ones([5,2])\n",
    "    c1 = 0.2\n",
    "    c2 = 0.5\n",
    "    r1 = np.ones(2)\n",
    "    r2 = np.ones(2)\n",
    "\n",
    "    Y_hat = update_global_best(Y, f)\n",
    "    new_V = update_velocity(V, X, Y, Y_hat, c1, c2, r1, r2)\n",
    "    new_X = update_position(X, new_V)\n",
    "    new_Y = update_personal_best(Y, new_X, f)\n",
    "    new_y_hat = update_global_or_local_best(new_Y, f)\n",
    "\n",
    "    print('Y_hat:\\n', Y_hat)\n",
    "    print('new_V:\\n', new_V)\n",
    "    print('new_X:\\n', new_X)\n",
    "    print('new_Y:\\n', new_Y)\n",
    "    print('new_y_hat:\\n', new_y_hat)"
   ]
  },
  {
   "cell_type": "code",
   "execution_count": 39,
   "metadata": {},
   "outputs": [
    {
     "name": "stdout",
     "output_type": "stream",
     "text": [
      "[0 2]\n"
     ]
    }
   ],
   "source": [
    "\n",
    "print(Y_hat)"
   ]
  },
  {
   "cell_type": "code",
   "execution_count": 43,
   "metadata": {},
   "outputs": [
    {
     "name": "stdout",
     "output_type": "stream",
     "text": [
      "[[-5.6  6.1]\n",
      " [ 3.1 -0.4]\n",
      " [ 0.2 -3. ]\n",
      " [ 0.1  4.7]\n",
      " [-2.7  0.6]]\n"
     ]
    }
   ],
   "source": [
    "\n",
    "print(new_V)"
   ]
  },
  {
   "cell_type": "code",
   "execution_count": 56,
   "metadata": {},
   "outputs": [
    {
     "data": {
      "text/plain": [
       "array([-0.9, -0.3])"
      ]
     },
     "execution_count": 56,
     "metadata": {},
     "output_type": "execute_result"
    }
   ],
   "source": []
  },
  {
   "cell_type": "code",
   "execution_count": 55,
   "metadata": {},
   "outputs": [],
   "source": []
  },
  {
   "cell_type": "code",
   "execution_count": null,
   "metadata": {},
   "outputs": [],
   "source": []
  }
 ],
 "metadata": {
  "kernelspec": {
   "display_name": "Python 3",
   "language": "python",
   "name": "python3"
  },
  "language_info": {
   "codemirror_mode": {
    "name": "ipython",
    "version": 3
   },
   "file_extension": ".py",
   "mimetype": "text/x-python",
   "name": "python",
   "nbconvert_exporter": "python",
   "pygments_lexer": "ipython3",
   "version": "3.7.6"
  }
 },
 "nbformat": 4,
 "nbformat_minor": 2
}
